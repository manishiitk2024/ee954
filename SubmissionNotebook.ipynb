{
 "cells": [
  {
   "cell_type": "code",
   "execution_count": 7,
   "id": "7d8f6bc4",
   "metadata": {},
   "outputs": [],
   "source": [
    "from tensorflow.keras.datasets import fashion_mnist\n",
    "from tensorflow.keras.utils import to_categorical\n",
    "# Load the Fashion MNIST dataset\n",
    "(X_train, y_train), (X_test, y_test) = fashion_mnist.load_data()\n",
    "\n",
    "# Flatten the images\n",
    "X_train = X_train.reshape(X_train.shape[0], -1)  # Shape (60000, 784)\n",
    "X_test = X_test.reshape(X_test.shape[0], -1)  \n",
    "\n",
    "# Normalize the images to values between 0 and 1\n",
    "X_train = X_train / 255.0\n",
    "X_test = X_test / 255.0\n",
    "\n",
    "# One-hot encode the labels\n",
    "y_train = to_categorical(y_train, 10)\n",
    "y_test = to_categorical(y_test, 10)"
   ]
  },
  {
   "cell_type": "markdown",
   "id": "4a369a9f",
   "metadata": {},
   "source": [
    "## FEED FORWARD"
   ]
  },
  {
   "cell_type": "code",
   "execution_count": 8,
   "id": "21ebafcf",
   "metadata": {},
   "outputs": [
    {
     "data": {
      "text/plain": [
       "(784,)"
      ]
     },
     "execution_count": 8,
     "metadata": {},
     "output_type": "execute_result"
    }
   ],
   "source": [
    "X_train[0].shape"
   ]
  },
  {
   "cell_type": "code",
   "execution_count": 17,
   "id": "7523e17d",
   "metadata": {},
   "outputs": [],
   "source": [
    "modelShape = [*X_train[0].shape]"
   ]
  },
  {
   "cell_type": "code",
   "execution_count": 18,
   "id": "2e63b0db",
   "metadata": {},
   "outputs": [
    {
     "data": {
      "text/plain": [
       "[784]"
      ]
     },
     "execution_count": 18,
     "metadata": {},
     "output_type": "execute_result"
    }
   ],
   "source": [
    "modelShape"
   ]
  },
  {
   "cell_type": "code",
   "execution_count": null,
   "id": "32ce9c9e",
   "metadata": {},
   "outputs": [],
   "source": []
  }
 ],
 "metadata": {
  "kernelspec": {
   "display_name": "Python 3 (ipykernel)",
   "language": "python",
   "name": "python3"
  },
  "language_info": {
   "codemirror_mode": {
    "name": "ipython",
    "version": 3
   },
   "file_extension": ".py",
   "mimetype": "text/x-python",
   "name": "python",
   "nbconvert_exporter": "python",
   "pygments_lexer": "ipython3",
   "version": "3.11.4"
  }
 },
 "nbformat": 4,
 "nbformat_minor": 5
}

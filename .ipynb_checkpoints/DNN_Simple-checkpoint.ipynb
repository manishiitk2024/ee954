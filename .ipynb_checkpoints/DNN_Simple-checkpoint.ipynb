{
 "cells": [
  {
   "cell_type": "code",
   "execution_count": null,
   "metadata": {},
   "outputs": [],
   "source": []
  },
  {
   "cell_type": "code",
   "execution_count": 1,
   "metadata": {},
   "outputs": [],
   "source": [
    "class DeepNN:\n",
    "    def __init__(self, input_size, hidden_size1, hidden_size2, output_size, learning_rate=0.01):\n",
    "        # Initialize weights and biases\n",
    "        self.weights1 = np.random.rand(input_size, hidden_size1) - 0.5\n",
    "        self.bias1 = np.random.rand(1, hidden_size1) - 0.5\n",
    "        self.weights2 = np.random.rand(hidden_size1, hidden_size2) - 0.5\n",
    "        self.bias2 = np.random.rand(1, hidden_size2) - 0.5\n",
    "        self.weights3 = np.random.rand(hidden_size2, output_size) - 0.5\n",
    "        self.bias3 = np.random.rand(1, output_size) - 0.5\n",
    "        self.learning_rate = learning_rate\n",
    "\n",
    "    def forward(self, X):\n",
    "        # Forward pass\n",
    "        self.z1 = np.dot(X, self.weights1) + self.bias1\n",
    "        self.a1 = relu(self.z1)\n",
    "        self.z2 = np.dot(self.a1, self.weights2) + self.bias2\n",
    "        self.a2 = relu(self.z2)\n",
    "        self.z3 = np.dot(self.a2, self.weights3) + self.bias3\n",
    "        self.a3 = relu(self.z3)  # Using ReLU in output layer (generally not common, but following your request)\n",
    "        return self.a3\n",
    "\n",
    "    def backward(self, X, y, output):\n",
    "        # Backward pass\n",
    "        # Derivative of the loss with respect to the output\n",
    "        output_error = y - output  # Error in output\n",
    "        output_delta = output_error * relu_derivative(output)  # dL/dz3 = (y - a3) * d(a3)/d(z3)\n",
    "        \n",
    "        # Derivative of the loss with respect to the second hidden layer\n",
    "        a2_error = output_delta.dot(self.weights3.T)  # dL/da2 = output_delta . weights3.T\n",
    "        a2_delta = a2_error * relu_derivative(self.a2)  # dL/dz2 = dL/da2 * d(a2)/d(z2)\n",
    "        \n",
    "        # Derivative of the loss with respect to the first hidden layer\n",
    "        a1_error = a2_delta.dot(self.weights2.T)  # dL/da1 = a2_delta . weights2.T\n",
    "        a1_delta = a1_error * relu_derivative(self.a1)  # dL/dz1 = dL/da1 * d(a1)/d(z1)\n",
    "\n",
    "        # Update weights and biases\n",
    "        self.weights3 += self.learning_rate * self.a2.T.dot(output_delta)  # weights3 += learning_rate * a2.T . output_delta\n",
    "        self.bias3 += self.learning_rate * np.sum(output_delta, axis=0, keepdims=True)  # bias3 += learning_rate * sum(output_delta)\n",
    "        self.weights2 += self.learning_rate * self.a1.T.dot(a2_delta)  # weights2 += learning_rate * a1.T . a2_delta\n",
    "        self.bias2 += self.learning_rate * np.sum(a2_delta, axis=0)  # bias2 += learning_rate * sum(a2_delta)\n",
    "        self.weights1 += self.learning_rate * X.T.dot(a1_delta)  # weights1 += learning_rate * X.T . a1_delta\n",
    "        self.bias1 += self.learning_rate * np.sum(a1_delta, axis=0)  # bias1 += learning_rate * sum(a1_delta)\n",
    "\n",
    "    def fit(self, X, y, epochs=10000, batch_size=32):\n",
    "        for epoch in range(epochs):\n",
    "            for i in range(0, X.shape[0], batch_size):\n",
    "                X_batch = X[i:i + batch_size]\n",
    "                y_batch = y[i:i + batch_size]\n",
    "                output = self.forward(X_batch)\n",
    "                self.backward(X_batch, y_batch, output)\n",
    "\n",
    "    def predict(self, X):\n",
    "        output = self.forward(X)\n",
    "        return np.argmax(output, axis=1)\n",
    "\n",
    "    def evaluate(self, X, y):\n",
    "        predictions = self.predict(X)\n",
    "        accuracy = np.mean(predictions == np.argmax(y, axis=1))\n",
    "        return accuracy"
   ]
  },
  {
   "cell_type": "code",
   "execution_count": null,
   "metadata": {},
   "outputs": [],
   "source": []
  }
 ],
 "metadata": {
  "kernelspec": {
   "display_name": "Python 3 (ipykernel)",
   "language": "python",
   "name": "python3"
  },
  "language_info": {
   "codemirror_mode": {
    "name": "ipython",
    "version": 3
   },
   "file_extension": ".py",
   "mimetype": "text/x-python",
   "name": "python",
   "nbconvert_exporter": "python",
   "pygments_lexer": "ipython3",
   "version": "3.11.4"
  }
 },
 "nbformat": 4,
 "nbformat_minor": 2
}

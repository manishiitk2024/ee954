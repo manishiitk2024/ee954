{
 "cells": [
  {
   "cell_type": "markdown",
   "id": "282bb841",
   "metadata": {},
   "source": [
    "#### Concept is to implment the dot product"
   ]
  },
  {
   "cell_type": "code",
   "execution_count": 72,
   "id": "006253df",
   "metadata": {},
   "outputs": [],
   "source": [
    "import numpy as np,random"
   ]
  },
  {
   "cell_type": "code",
   "execution_count": 73,
   "id": "ae890968",
   "metadata": {},
   "outputs": [],
   "source": [
    "import matplotlib.pyplot as plt, seaborn as sns"
   ]
  },
  {
   "cell_type": "code",
   "execution_count": 74,
   "id": "156bb89c",
   "metadata": {},
   "outputs": [],
   "source": [
    "def relu(x):\n",
    "    return max(x,0)"
   ]
  },
  {
   "cell_type": "code",
   "execution_count": 75,
   "id": "39ff3827",
   "metadata": {},
   "outputs": [],
   "source": [
    "#intNetworkDim = [4,2,2,1]"
   ]
  },
  {
   "cell_type": "code",
   "execution_count": 76,
   "id": "86ac3ddc",
   "metadata": {},
   "outputs": [
    {
     "data": {
      "text/plain": [
       "array([[ 1.95187963],\n",
       "       [-0.34485392],\n",
       "       [ 0.58348327],\n",
       "       [-0.44578079],\n",
       "       [-1.84724568]])"
      ]
     },
     "execution_count": 76,
     "metadata": {},
     "output_type": "execute_result"
    }
   ],
   "source": [
    "np.random.randn(5,1)"
   ]
  },
  {
   "cell_type": "markdown",
   "id": "49dbe9e5",
   "metadata": {},
   "source": [
    "### FEED FORWARD"
   ]
  },
  {
   "cell_type": "code",
   "execution_count": 81,
   "id": "a42e062e",
   "metadata": {},
   "outputs": [],
   "source": [
    "numberOfInputFeatures = 5\n",
    "X = np.random.randn(numberOfInputFeatures,1)"
   ]
  },
  {
   "cell_type": "code",
   "execution_count": 108,
   "id": "9ad34472",
   "metadata": {},
   "outputs": [],
   "source": [
    "layerTopology = (5,4,5,3) # 1stLayer - which is input shape - , hiddenLayers , Output Layer\n",
    "activation = 'relu'"
   ]
  },
  {
   "cell_type": "code",
   "execution_count": 118,
   "id": "d66c880a",
   "metadata": {},
   "outputs": [],
   "source": [
    "def initializeWeights(layerTopology):\n",
    "    weights = {}\n",
    "    for layer in range(1,len(layerTopology)):\n",
    "        neurons = layerTopology[layer]\n",
    "        numberOfPreviousLayerFeaturelayerTopology = layerTopology[layer-1]\n",
    "        weight = np.random.randn(numberOfPreviousLayerFeaturelayerTopology,neurons)\n",
    "        bias = np.random.randn(neurons,1)\n",
    "        weights[layer]={'w':weight,'b':bias}\n",
    "    return weights"
   ]
  },
  {
   "cell_type": "code",
   "execution_count": 119,
   "id": "c11e75dd",
   "metadata": {},
   "outputs": [],
   "source": [
    "weights = initializeWeights(layerTopology)"
   ]
  },
  {
   "cell_type": "code",
   "execution_count": 120,
   "id": "c8019e18",
   "metadata": {},
   "outputs": [
    {
     "data": {
      "text/plain": [
       "{1: {'w': array([[-0.12375343, -0.06051194,  0.9648056 , -0.60261372],\n",
       "         [ 0.31268168,  2.06398462, -1.22980495,  0.00928761],\n",
       "         [ 1.00900752,  1.09162671, -0.62553839,  0.49219048],\n",
       "         [-0.93930747, -0.49707588, -1.06453754, -1.60426264],\n",
       "         [-0.07297622,  0.12250567, -2.0763208 ,  0.3973011 ]]),\n",
       "  'b': array([[-1.36718186],\n",
       "         [ 1.45674094],\n",
       "         [ 1.20421004],\n",
       "         [ 0.58342327]])},\n",
       " 2: {'w': array([[ 0.08955607, -1.44224167,  0.02920566, -0.5489467 , -1.94547663],\n",
       "         [ 1.2420711 ,  0.67245769, -0.54737927,  0.54816926, -1.11377594],\n",
       "         [-0.20178772, -0.13245246, -0.51725379,  0.68243472,  0.40154714],\n",
       "         [-0.10463683,  0.80632676,  3.26931037,  1.96757394, -0.82702397]]),\n",
       "  'b': array([[-0.32008918],\n",
       "         [ 0.80039439],\n",
       "         [ 0.71383797],\n",
       "         [-0.48008313],\n",
       "         [ 1.22998303]])},\n",
       " 3: {'w': array([[-0.34112835, -0.91991026,  0.0922256 ],\n",
       "         [-0.03921126,  0.45857359,  0.58158856],\n",
       "         [-0.35718734, -0.75736634,  1.3436445 ],\n",
       "         [ 1.02833775, -0.97640339,  0.39785589],\n",
       "         [-0.25416961,  0.56796541, -0.97165591]]),\n",
       "  'b': array([[ 1.25172597],\n",
       "         [-0.1906311 ],\n",
       "         [-0.92669947]])}}"
      ]
     },
     "execution_count": 120,
     "metadata": {},
     "output_type": "execute_result"
    }
   ],
   "source": [
    "weights"
   ]
  },
  {
   "cell_type": "code",
   "execution_count": null,
   "id": "360a802e",
   "metadata": {},
   "outputs": [],
   "source": []
  },
  {
   "cell_type": "code",
   "execution_count": null,
   "id": "4f61c014",
   "metadata": {},
   "outputs": [],
   "source": []
  },
  {
   "cell_type": "code",
   "execution_count": null,
   "id": "b206a3e4",
   "metadata": {},
   "outputs": [],
   "source": []
  },
  {
   "cell_type": "code",
   "execution_count": null,
   "id": "a6eb6da9",
   "metadata": {},
   "outputs": [],
   "source": []
  },
  {
   "cell_type": "code",
   "execution_count": null,
   "id": "2c03d2ed",
   "metadata": {},
   "outputs": [],
   "source": []
  },
  {
   "cell_type": "code",
   "execution_count": null,
   "id": "ec089ad0",
   "metadata": {},
   "outputs": [],
   "source": []
  },
  {
   "cell_type": "code",
   "execution_count": 77,
   "id": "239c17d2",
   "metadata": {},
   "outputs": [],
   "source": []
  },
  {
   "cell_type": "code",
   "execution_count": 78,
   "id": "59fca825",
   "metadata": {},
   "outputs": [
    {
     "data": {
      "text/plain": [
       "(5, 1)"
      ]
     },
     "execution_count": 78,
     "metadata": {},
     "output_type": "execute_result"
    }
   ],
   "source": [
    "X.shape"
   ]
  },
  {
   "cell_type": "code",
   "execution_count": null,
   "id": "9f04c89f",
   "metadata": {},
   "outputs": [],
   "source": []
  },
  {
   "cell_type": "code",
   "execution_count": 79,
   "id": "c5aca5b4",
   "metadata": {},
   "outputs": [],
   "source": [
    "w0 = np.random.randn(*X.shape)\n",
    "b0 = 0"
   ]
  },
  {
   "cell_type": "code",
   "execution_count": null,
   "id": "66ed1c06",
   "metadata": {},
   "outputs": [],
   "source": [
    "\n"
   ]
  },
  {
   "cell_type": "code",
   "execution_count": null,
   "id": "c806a81e",
   "metadata": {},
   "outputs": [],
   "source": []
  },
  {
   "cell_type": "code",
   "execution_count": null,
   "id": "b1553461",
   "metadata": {},
   "outputs": [],
   "source": []
  },
  {
   "cell_type": "markdown",
   "id": "c9a7b1c0",
   "metadata": {},
   "source": [
    "#### Input to 1st Layer - 1 Neuron"
   ]
  },
  {
   "cell_type": "code",
   "execution_count": 80,
   "id": "481e01f6",
   "metadata": {},
   "outputs": [],
   "source": [
    "z1 = np.dot(w0.T,X0)+b\n",
    "a1 = relu(z1)\n",
    "b1 = 0"
   ]
  },
  {
   "cell_type": "code",
   "execution_count": null,
   "id": "e545b56b",
   "metadata": {},
   "outputs": [],
   "source": []
  },
  {
   "cell_type": "code",
   "execution_count": null,
   "id": "20d5451e",
   "metadata": {},
   "outputs": [],
   "source": []
  },
  {
   "cell_type": "code",
   "execution_count": null,
   "id": "ea9fd07b",
   "metadata": {},
   "outputs": [],
   "source": []
  },
  {
   "cell_type": "markdown",
   "id": "776e01a0",
   "metadata": {},
   "source": [
    "#### Input to 2nd Layer - 1 Neuron"
   ]
  },
  {
   "cell_type": "code",
   "execution_count": null,
   "id": "4ef79932",
   "metadata": {},
   "outputs": [],
   "source": []
  },
  {
   "cell_type": "code",
   "execution_count": null,
   "id": "a3ad0b38",
   "metadata": {},
   "outputs": [],
   "source": []
  },
  {
   "cell_type": "code",
   "execution_count": null,
   "id": "395d10c7",
   "metadata": {},
   "outputs": [],
   "source": []
  },
  {
   "cell_type": "code",
   "execution_count": null,
   "id": "934102e6",
   "metadata": {},
   "outputs": [],
   "source": []
  },
  {
   "cell_type": "code",
   "execution_count": null,
   "id": "3e4c577f",
   "metadata": {},
   "outputs": [],
   "source": []
  },
  {
   "cell_type": "code",
   "execution_count": null,
   "id": "80b016b9",
   "metadata": {},
   "outputs": [],
   "source": []
  },
  {
   "cell_type": "code",
   "execution_count": null,
   "id": "77470e4c",
   "metadata": {},
   "outputs": [],
   "source": []
  },
  {
   "cell_type": "code",
   "execution_count": 39,
   "id": "6fe8b850",
   "metadata": {},
   "outputs": [
    {
     "data": {
      "text/plain": [
       "(5, 1)"
      ]
     },
     "execution_count": 39,
     "metadata": {},
     "output_type": "execute_result"
    }
   ],
   "source": [
    "X.shape"
   ]
  },
  {
   "cell_type": "code",
   "execution_count": 44,
   "id": "16122c1d",
   "metadata": {},
   "outputs": [],
   "source": [
    "w = \n",
    "b = 0"
   ]
  },
  {
   "cell_type": "code",
   "execution_count": 45,
   "id": "9f057e57",
   "metadata": {},
   "outputs": [],
   "source": [
    "z = np.dot(w.T,X)+b"
   ]
  },
  {
   "cell_type": "code",
   "execution_count": 46,
   "id": "5d5ebdbb",
   "metadata": {},
   "outputs": [
    {
     "data": {
      "text/plain": [
       "array([[2.9886872]])"
      ]
     },
     "execution_count": 46,
     "metadata": {},
     "output_type": "execute_result"
    }
   ],
   "source": [
    "z"
   ]
  },
  {
   "cell_type": "markdown",
   "id": "b9634af6",
   "metadata": {},
   "source": [
    "##### Normalize"
   ]
  },
  {
   "cell_type": "code",
   "execution_count": 8,
   "id": "727fac02",
   "metadata": {},
   "outputs": [],
   "source": [
    "def normalize(X):\n",
    "    mx = max(X)\n",
    "    mn = min(X)\n",
    "    rng = mx - mn\n",
    "    X = (X - mn)/rng\n",
    "    return X"
   ]
  },
  {
   "cell_type": "code",
   "execution_count": 11,
   "id": "bbeab7b6",
   "metadata": {},
   "outputs": [
    {
     "data": {
      "text/plain": [
       "array([0.        , 1.        , 0.66666667, 0.33333333, 0.        ])"
      ]
     },
     "execution_count": 11,
     "metadata": {},
     "output_type": "execute_result"
    }
   ],
   "source": [
    "X = normalize(X)\n",
    "X"
   ]
  },
  {
   "cell_type": "code",
   "execution_count": null,
   "id": "39f521ef",
   "metadata": {},
   "outputs": [],
   "source": []
  },
  {
   "cell_type": "code",
   "execution_count": 33,
   "id": "45abc5e6",
   "metadata": {},
   "outputs": [],
   "source": [
    "#sns.histplot(np.random.randn(100));"
   ]
  },
  {
   "cell_type": "code",
   "execution_count": null,
   "id": "6952ee22",
   "metadata": {},
   "outputs": [],
   "source": []
  },
  {
   "cell_type": "code",
   "execution_count": null,
   "id": "d9a86512",
   "metadata": {},
   "outputs": [],
   "source": []
  },
  {
   "cell_type": "code",
   "execution_count": null,
   "id": "b58efcb1",
   "metadata": {},
   "outputs": [],
   "source": []
  },
  {
   "cell_type": "code",
   "execution_count": null,
   "id": "0246e032",
   "metadata": {},
   "outputs": [],
   "source": []
  },
  {
   "cell_type": "code",
   "execution_count": null,
   "id": "a70dc14c",
   "metadata": {},
   "outputs": [],
   "source": []
  },
  {
   "cell_type": "code",
   "execution_count": null,
   "id": "060efff3",
   "metadata": {},
   "outputs": [],
   "source": []
  },
  {
   "cell_type": "code",
   "execution_count": null,
   "id": "3da2ae79",
   "metadata": {},
   "outputs": [],
   "source": []
  },
  {
   "cell_type": "code",
   "execution_count": null,
   "id": "f6218e0d",
   "metadata": {},
   "outputs": [],
   "source": []
  },
  {
   "cell_type": "code",
   "execution_count": null,
   "id": "ab86eebc",
   "metadata": {},
   "outputs": [],
   "source": []
  },
  {
   "cell_type": "code",
   "execution_count": null,
   "id": "df5ef8a5",
   "metadata": {},
   "outputs": [],
   "source": []
  },
  {
   "cell_type": "code",
   "execution_count": null,
   "id": "bf5140d7",
   "metadata": {},
   "outputs": [],
   "source": []
  },
  {
   "cell_type": "code",
   "execution_count": null,
   "id": "afebe50e",
   "metadata": {},
   "outputs": [],
   "source": []
  },
  {
   "cell_type": "code",
   "execution_count": null,
   "id": "c7425133",
   "metadata": {},
   "outputs": [],
   "source": []
  },
  {
   "cell_type": "code",
   "execution_count": null,
   "id": "16ea85c4",
   "metadata": {},
   "outputs": [],
   "source": []
  },
  {
   "cell_type": "code",
   "execution_count": null,
   "id": "5bf3386d",
   "metadata": {},
   "outputs": [],
   "source": []
  },
  {
   "cell_type": "code",
   "execution_count": null,
   "id": "c9d8ce56",
   "metadata": {},
   "outputs": [],
   "source": []
  },
  {
   "cell_type": "code",
   "execution_count": null,
   "id": "40cafd71",
   "metadata": {},
   "outputs": [],
   "source": []
  },
  {
   "cell_type": "code",
   "execution_count": null,
   "id": "2c41d034",
   "metadata": {},
   "outputs": [],
   "source": []
  },
  {
   "cell_type": "code",
   "execution_count": null,
   "id": "0751c485",
   "metadata": {},
   "outputs": [],
   "source": []
  },
  {
   "cell_type": "code",
   "execution_count": null,
   "id": "72ff7ff2",
   "metadata": {},
   "outputs": [],
   "source": []
  },
  {
   "cell_type": "code",
   "execution_count": 16,
   "id": "c6e32ba3",
   "metadata": {},
   "outputs": [],
   "source": [
    "def initialize_parameters(dimensions):\n",
    "# dimensions is a list containing the number of neuron in each layer in the network\n",
    "# It returns parameters which is a python dictionary containing the parameters \"W1\", \"b1\", ..., \"WL\", \"bL\":\n",
    " \n",
    "    np.random.seed(2)\n",
    "    parameters = {}\n",
    "    L = len(dimensions)            # number of layers in the network + 1\n",
    " \n",
    "    for l in range(1, L): \n",
    "        parameters['W'+str(l)]=np.random.randn(dimensions[l],dimensions[l-1])*0.1\n",
    "        parameters['b' + str(l)]=np.zeros((dimensions[l], 1)) \n",
    "        \n",
    "        assert(parameters['W' + str(l)].shape==(dimensions[l],dimensions[l-1]))\n",
    "        assert(parameters['b' + str(l)].shape == (dimensions[l], 1))\n",
    "        \n",
    "    return parameters"
   ]
  },
  {
   "cell_type": "code",
   "execution_count": 18,
   "id": "8d6331aa",
   "metadata": {},
   "outputs": [
    {
     "data": {
      "text/plain": [
       "{'W1': array([[-0.04167578, -0.00562668, -0.21361961, ..., -0.06168445,\n",
       "          0.03213358, -0.09464469],\n",
       "        [-0.05301394, -0.1259207 ,  0.16775441, ..., -0.03284246,\n",
       "         -0.05623108,  0.01179136],\n",
       "        [ 0.07386378, -0.15872956,  0.01532001, ..., -0.08428557,\n",
       "          0.10040469,  0.00545832]]),\n",
       " 'b1': array([[0.],\n",
       "        [0.],\n",
       "        [0.]]),\n",
       " 'W2': array([[ 0.06650944, -0.19626047,  0.2112715 ],\n",
       "        [-0.28074571, -0.13967752,  0.02641189],\n",
       "        [ 0.10925169,  0.06646016,  0.08565535],\n",
       "        [-0.11058228,  0.03715795,  0.13440124],\n",
       "        [-0.16421272, -0.1153127 ,  0.02013163],\n",
       "        [ 0.13985659,  0.07228733, -0.10717236],\n",
       "        [-0.05673344, -0.03663499, -0.15460347]]),\n",
       " 'b2': array([[0.],\n",
       "        [0.],\n",
       "        [0.],\n",
       "        [0.],\n",
       "        [0.],\n",
       "        [0.],\n",
       "        [0.]]),\n",
       " 'W3': array([[ 0.20406947, -0.04960206, -0.06131668, -0.17449682,  0.01840741,\n",
       "         -0.00795452,  0.12406296],\n",
       "        [ 0.08625738, -0.01239074,  0.05854764,  0.19336815, -0.07322525,\n",
       "         -0.039205  ,  0.07512152],\n",
       "        [-0.05947453,  0.04753173, -0.1083593 ,  0.08228398,  0.07047718,\n",
       "         -0.05854343, -0.12699409],\n",
       "        [ 0.03255273,  0.00457369, -0.13662463,  0.10202692, -0.07310626,\n",
       "          0.1496712 ,  0.13433165],\n",
       "        [ 0.02566371,  0.0734615 , -0.14332651,  0.00178312,  0.05686418,\n",
       "         -0.1263975 , -0.14590294],\n",
       "        [ 0.15906599,  0.04026281,  0.14249133,  0.10019812, -0.28192685,\n",
       "         -0.11228612, -0.01523209],\n",
       "        [ 0.00556535,  0.01378749, -0.0675063 , -0.00885622, -0.10151087,\n",
       "          0.12861383, -0.09708002],\n",
       "        [-0.0577768 ,  0.08917285, -0.05625892,  0.01765442, -0.09055266,\n",
       "         -0.00368937,  0.04094553],\n",
       "        [-0.15298018, -0.16785625, -0.116733  ,  0.08260156,  0.05470732,\n",
       "          0.08330186,  0.14913897],\n",
       "        [-0.04016882, -0.07274709, -0.01175106,  0.0241847 ,  0.10988869,\n",
       "          0.01330499,  0.05696497]]),\n",
       " 'b3': array([[0.],\n",
       "        [0.],\n",
       "        [0.],\n",
       "        [0.],\n",
       "        [0.],\n",
       "        [0.],\n",
       "        [0.],\n",
       "        [0.],\n",
       "        [0.],\n",
       "        [0.]])}"
      ]
     },
     "execution_count": 18,
     "metadata": {},
     "output_type": "execute_result"
    }
   ],
   "source": [
    "initialize_parameters([784, 3, 7, 10])"
   ]
  },
  {
   "cell_type": "code",
   "execution_count": null,
   "id": "6e3ad528",
   "metadata": {},
   "outputs": [],
   "source": []
  }
 ],
 "metadata": {
  "kernelspec": {
   "display_name": "Python 3 (ipykernel)",
   "language": "python",
   "name": "python3"
  },
  "language_info": {
   "codemirror_mode": {
    "name": "ipython",
    "version": 3
   },
   "file_extension": ".py",
   "mimetype": "text/x-python",
   "name": "python",
   "nbconvert_exporter": "python",
   "pygments_lexer": "ipython3",
   "version": "3.11.4"
  }
 },
 "nbformat": 4,
 "nbformat_minor": 5
}

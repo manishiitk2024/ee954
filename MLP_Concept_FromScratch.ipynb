{
 "cells": [
  {
   "cell_type": "markdown",
   "id": "b10128aa",
   "metadata": {},
   "source": [
    "#### Concept is to implment the dot product"
   ]
  },
  {
   "cell_type": "code",
   "execution_count": 1,
   "id": "0edb93f3",
   "metadata": {},
   "outputs": [],
   "source": [
    "import numpy as np,random"
   ]
  },
  {
   "cell_type": "code",
   "execution_count": 2,
   "id": "c1067e16",
   "metadata": {},
   "outputs": [],
   "source": [
    "import matplotlib.pyplot as plt, seaborn as sns"
   ]
  },
  {
   "cell_type": "code",
   "execution_count": 3,
   "id": "628927df",
   "metadata": {},
   "outputs": [],
   "source": [
    "def relu(x):\n",
    "    acti = np.maximum(0,x)\n",
    "    return acti\n",
    "\n",
    "\n",
    "def softmax(x):\n",
    "    \"\"\"Compute softmax values for each sets of scores in x.\"\"\"\n",
    "    e_x = np.exp(x - np.max(x))\n",
    "    return e_x / np.sum(e_x,keepdims=True)\n",
    "\n",
    "def log_loss(y_true, y_pred):\n",
    "    epsilon = 1e-15  # To prevent numerical instability (avoiding division by zero)\n",
    "    y_pred = np.clip(y_pred, epsilon, 1 - epsilon)  # Clip predicted probabilities to avoid log(0)\n",
    "    return -np.sum(y_true * np.log(y_pred))"
   ]
  },
  {
   "cell_type": "code",
   "execution_count": 4,
   "id": "e92d1dca",
   "metadata": {},
   "outputs": [
    {
     "name": "stdout",
     "output_type": "stream",
     "text": [
      "Log Loss: 3.8264765475960894\n"
     ]
    }
   ],
   "source": [
    "logits = np.array([1.2,0.5,-0.3]).reshape(3,1)  # Logit values for 3 classes\n",
    "true_labels = np.array([0, 1, 0])  # One-hot encoded true labels (assuming class 1 is true)\n",
    "\n",
    "# Convert logits to probabilities using softmax\n",
    "probabilities = softmax(logits)\n",
    "\n",
    "# Compute log loss using true labels and predicted probabilities\n",
    "loss = log_loss(true_labels, probabilities)\n",
    "print(\"Log Loss:\", loss)"
   ]
  },
  {
   "cell_type": "code",
   "execution_count": 5,
   "id": "d0df018b",
   "metadata": {},
   "outputs": [
    {
     "data": {
      "text/plain": [
       "array([[ 1.2],\n",
       "       [ 0.5],\n",
       "       [-0.3]])"
      ]
     },
     "execution_count": 5,
     "metadata": {},
     "output_type": "execute_result"
    }
   ],
   "source": [
    "logits"
   ]
  },
  {
   "cell_type": "code",
   "execution_count": 6,
   "id": "1ffd5a61",
   "metadata": {},
   "outputs": [],
   "source": [
    "#x2 = np.random.randn(100)"
   ]
  },
  {
   "cell_type": "code",
   "execution_count": 7,
   "id": "7e5970ce",
   "metadata": {},
   "outputs": [],
   "source": [
    "#max(x2)"
   ]
  },
  {
   "cell_type": "code",
   "execution_count": 8,
   "id": "c0634c08",
   "metadata": {},
   "outputs": [],
   "source": [
    "#min(x2)"
   ]
  },
  {
   "cell_type": "code",
   "execution_count": 9,
   "id": "77948bf3",
   "metadata": {},
   "outputs": [],
   "source": [
    "#plt.hist(x2)"
   ]
  },
  {
   "cell_type": "code",
   "execution_count": 10,
   "id": "3f3bb933",
   "metadata": {},
   "outputs": [],
   "source": [
    "#intNetworkDim = [4,2,2,1]"
   ]
  },
  {
   "cell_type": "code",
   "execution_count": 11,
   "id": "60213a4d",
   "metadata": {},
   "outputs": [
    {
     "data": {
      "text/plain": [
       "array([[ 1.37802603],\n",
       "       [ 1.69771517],\n",
       "       [-1.13777811],\n",
       "       [-0.91034784],\n",
       "       [-0.35734513]])"
      ]
     },
     "execution_count": 11,
     "metadata": {},
     "output_type": "execute_result"
    }
   ],
   "source": [
    "np.random.randn(5,1)"
   ]
  },
  {
   "cell_type": "markdown",
   "id": "1ac74f72",
   "metadata": {},
   "source": [
    "### FEED FORWARD"
   ]
  },
  {
   "cell_type": "code",
   "execution_count": 12,
   "id": "c500a5e0",
   "metadata": {},
   "outputs": [],
   "source": [
    "numberOfInputFeatures = 5\n",
    "X = np.random.randn(numberOfInputFeatures,1)"
   ]
  },
  {
   "cell_type": "code",
   "execution_count": 13,
   "id": "dfa86133",
   "metadata": {},
   "outputs": [],
   "source": [
    "layerTopology = (5,4,5,3) # 1stLayer - which is input shape - , hiddenLayers , Output Layer\n",
    "activation = 'relu'"
   ]
  },
  {
   "cell_type": "code",
   "execution_count": 14,
   "id": "fbd3d421",
   "metadata": {},
   "outputs": [],
   "source": [
    "def initializeWeights(layerTopology):\n",
    "    weights = {}\n",
    "    for layer in range(1,len(layerTopology)):\n",
    "        neurons = layerTopology[layer]\n",
    "        numberOfPreviousLayerFeaturelayerTopology = layerTopology[layer-1]\n",
    "        weight = np.random.randn(numberOfPreviousLayerFeaturelayerTopology,neurons)\n",
    "        bias = np.random.randn(neurons,1)\n",
    "        weights[layer]={'w':weight,'b':bias}\n",
    "    return weights"
   ]
  },
  {
   "cell_type": "code",
   "execution_count": 15,
   "id": "614f86f4",
   "metadata": {},
   "outputs": [],
   "source": [
    "weights = initializeWeights(layerTopology)"
   ]
  },
  {
   "cell_type": "code",
   "execution_count": 18,
   "id": "ef4d2bda",
   "metadata": {},
   "outputs": [],
   "source": [
    "def forwardpass(inputVector,weights):\n",
    "    \n",
    "    *hiddenLayers,outputLayer = list(weights.keys())\n",
    "    \n",
    "    for k in hiddenLayers:\n",
    "        z = np.dot(weights[k]['w'].T,inputVector)+weights[k]['b']\n",
    "        output = relu(z)\n",
    "        #print(output)\n",
    "        output = relu(output)\n",
    "        inputVector = output\n",
    "        \n",
    "    # Final Layer Since Relu will not be applied, hence taking out of the loop.\n",
    "    \n",
    "    z = np.dot(weights[outputLayer]['w'].T,inputVector)+weights[outputLayer]['b']\n",
    "    #print(z)\n",
    "        \n",
    "    finalLogitOutPut = softmax(z)\n",
    "    \n",
    "    return finalLogitOutPut"
   ]
  },
  {
   "cell_type": "code",
   "execution_count": 20,
   "id": "76ceeb56",
   "metadata": {},
   "outputs": [],
   "source": [
    "def calculateLogLoss(yActual_OneHot,softmaxOutPut):\n",
    "    return log_loss(yActual_OneHot,softmaxOutPut)\n",
    "    "
   ]
  },
  {
   "cell_type": "code",
   "execution_count": 21,
   "id": "1521098e",
   "metadata": {},
   "outputs": [],
   "source": [
    "softmaxOutPut = forwardpass(X,weights)"
   ]
  },
  {
   "cell_type": "code",
   "execution_count": 22,
   "id": "d529e126",
   "metadata": {},
   "outputs": [],
   "source": [
    "yActual_OneHot = np.array([0, 1, 0])"
   ]
  },
  {
   "cell_type": "code",
   "execution_count": 23,
   "id": "c6886a7a",
   "metadata": {},
   "outputs": [
    {
     "data": {
      "text/plain": [
       "3.735646000140076"
      ]
     },
     "execution_count": 23,
     "metadata": {},
     "output_type": "execute_result"
    }
   ],
   "source": [
    "calculateLogLoss(yActual_OneHot,softmaxOutPut)"
   ]
  },
  {
   "cell_type": "code",
   "execution_count": null,
   "id": "d7f7e66e",
   "metadata": {},
   "outputs": [],
   "source": []
  },
  {
   "cell_type": "code",
   "execution_count": null,
   "id": "f03052a2",
   "metadata": {},
   "outputs": [],
   "source": []
  },
  {
   "cell_type": "code",
   "execution_count": null,
   "id": "627ec610",
   "metadata": {},
   "outputs": [],
   "source": []
  },
  {
   "cell_type": "code",
   "execution_count": null,
   "id": "d6a29e93",
   "metadata": {},
   "outputs": [],
   "source": []
  },
  {
   "cell_type": "code",
   "execution_count": null,
   "id": "530117ad",
   "metadata": {},
   "outputs": [],
   "source": []
  },
  {
   "cell_type": "code",
   "execution_count": null,
   "id": "620be6d3",
   "metadata": {},
   "outputs": [],
   "source": []
  },
  {
   "cell_type": "code",
   "execution_count": null,
   "id": "201b7b06",
   "metadata": {},
   "outputs": [],
   "source": []
  },
  {
   "cell_type": "code",
   "execution_count": null,
   "id": "4aef1efe",
   "metadata": {},
   "outputs": [],
   "source": []
  },
  {
   "cell_type": "code",
   "execution_count": null,
   "id": "0734f9b1",
   "metadata": {},
   "outputs": [],
   "source": []
  },
  {
   "cell_type": "code",
   "execution_count": null,
   "id": "2609cac3",
   "metadata": {},
   "outputs": [],
   "source": []
  },
  {
   "cell_type": "code",
   "execution_count": null,
   "id": "07647153",
   "metadata": {},
   "outputs": [],
   "source": []
  },
  {
   "cell_type": "markdown",
   "id": "10514755",
   "metadata": {},
   "source": [
    "##### Normalize"
   ]
  },
  {
   "cell_type": "code",
   "execution_count": null,
   "id": "57a7911c",
   "metadata": {},
   "outputs": [],
   "source": [
    "def normalize(X):\n",
    "    mx = max(X)\n",
    "    mn = min(X)\n",
    "    rng = mx - mn\n",
    "    X = (X - mn)/rng\n",
    "    return X"
   ]
  },
  {
   "cell_type": "code",
   "execution_count": null,
   "id": "2e846f8b",
   "metadata": {},
   "outputs": [],
   "source": [
    "X = normalize(X)\n",
    "X"
   ]
  },
  {
   "cell_type": "code",
   "execution_count": null,
   "id": "41c493c2",
   "metadata": {},
   "outputs": [],
   "source": [
    "You are an expert ML engineer and python developer. You need to explain classification using the fashion mnist dataset to undergraduate students.\n",
    "\n",
    "Task:\n",
    "\n",
    "1.\tImplement the classification algorithm using neural networks.\n",
    "2.\tUse only python and numpy to explain the forward pass and backward pass.\n",
    "3.\tExplain the derivative part in details in backpropagation\n",
    "4.\tYou class should have fit and predict method.\n",
    "5. You network has two hidden layer with 3,4 neurons repectively.\n",
    "\n",
    "Think Step by Step\n"
   ]
  },
  {
   "cell_type": "code",
   "execution_count": null,
   "id": "2e7317d9",
   "metadata": {},
   "outputs": [],
   "source": [
    "#sns.histplot(np.random.randn(100));"
   ]
  },
  {
   "cell_type": "code",
   "execution_count": null,
   "id": "d52c1e8a",
   "metadata": {},
   "outputs": [],
   "source": []
  },
  {
   "cell_type": "code",
   "execution_count": null,
   "id": "8c27a8b5",
   "metadata": {},
   "outputs": [],
   "source": []
  },
  {
   "cell_type": "code",
   "execution_count": null,
   "id": "794aa16e",
   "metadata": {},
   "outputs": [],
   "source": []
  },
  {
   "cell_type": "code",
   "execution_count": null,
   "id": "3782f982",
   "metadata": {},
   "outputs": [],
   "source": []
  },
  {
   "cell_type": "code",
   "execution_count": null,
   "id": "d0c7497e",
   "metadata": {},
   "outputs": [],
   "source": []
  },
  {
   "cell_type": "code",
   "execution_count": null,
   "id": "4ca6873e",
   "metadata": {},
   "outputs": [],
   "source": []
  },
  {
   "cell_type": "code",
   "execution_count": null,
   "id": "2bc95d65",
   "metadata": {},
   "outputs": [],
   "source": []
  },
  {
   "cell_type": "code",
   "execution_count": null,
   "id": "fca7a7d2",
   "metadata": {},
   "outputs": [],
   "source": []
  },
  {
   "cell_type": "code",
   "execution_count": null,
   "id": "66353748",
   "metadata": {},
   "outputs": [],
   "source": []
  },
  {
   "cell_type": "code",
   "execution_count": null,
   "id": "ef9e805e",
   "metadata": {},
   "outputs": [],
   "source": []
  },
  {
   "cell_type": "code",
   "execution_count": null,
   "id": "7af8631f",
   "metadata": {},
   "outputs": [],
   "source": []
  },
  {
   "cell_type": "code",
   "execution_count": null,
   "id": "6fb89286",
   "metadata": {},
   "outputs": [],
   "source": []
  },
  {
   "cell_type": "code",
   "execution_count": null,
   "id": "a37159ae",
   "metadata": {},
   "outputs": [],
   "source": []
  },
  {
   "cell_type": "code",
   "execution_count": null,
   "id": "50f877ae",
   "metadata": {},
   "outputs": [],
   "source": []
  },
  {
   "cell_type": "code",
   "execution_count": null,
   "id": "1a4d4c4f",
   "metadata": {},
   "outputs": [],
   "source": []
  },
  {
   "cell_type": "code",
   "execution_count": null,
   "id": "b4d9cc73",
   "metadata": {},
   "outputs": [],
   "source": []
  },
  {
   "cell_type": "code",
   "execution_count": null,
   "id": "053988d7",
   "metadata": {},
   "outputs": [],
   "source": []
  },
  {
   "cell_type": "code",
   "execution_count": null,
   "id": "b7ae40b2",
   "metadata": {},
   "outputs": [],
   "source": []
  },
  {
   "cell_type": "code",
   "execution_count": null,
   "id": "d0b0a113",
   "metadata": {},
   "outputs": [],
   "source": []
  },
  {
   "cell_type": "code",
   "execution_count": null,
   "id": "8a1b5c0f",
   "metadata": {},
   "outputs": [],
   "source": []
  },
  {
   "cell_type": "code",
   "execution_count": null,
   "id": "7e75cab9",
   "metadata": {},
   "outputs": [],
   "source": [
    "def initialize_parameters(dimensions):\n",
    "# dimensions is a list containing the number of neuron in each layer in the network\n",
    "# It returns parameters which is a python dictionary containing the parameters \"W1\", \"b1\", ..., \"WL\", \"bL\":\n",
    " \n",
    "    np.random.seed(2)\n",
    "    parameters = {}\n",
    "    L = len(dimensions)            # number of layers in the network + 1\n",
    " \n",
    "    for l in range(1, L): \n",
    "        parameters['W'+str(l)]=np.random.randn(dimensions[l],dimensions[l-1])*0.1\n",
    "        parameters['b' + str(l)]=np.zeros((dimensions[l], 1)) \n",
    "        \n",
    "        assert(parameters['W' + str(l)].shape==(dimensions[l],dimensions[l-1]))\n",
    "        assert(parameters['b' + str(l)].shape == (dimensions[l], 1))\n",
    "        \n",
    "    return parameters"
   ]
  },
  {
   "cell_type": "code",
   "execution_count": null,
   "id": "8920496c",
   "metadata": {},
   "outputs": [],
   "source": [
    "initialize_parameters([784, 3, 7, 10])"
   ]
  },
  {
   "cell_type": "code",
   "execution_count": null,
   "id": "401b5be5",
   "metadata": {},
   "outputs": [],
   "source": []
  }
 ],
 "metadata": {
  "kernelspec": {
   "display_name": "Python 3 (ipykernel)",
   "language": "python",
   "name": "python3"
  },
  "language_info": {
   "codemirror_mode": {
    "name": "ipython",
    "version": 3
   },
   "file_extension": ".py",
   "mimetype": "text/x-python",
   "name": "python",
   "nbconvert_exporter": "python",
   "pygments_lexer": "ipython3",
   "version": "3.11.4"
  }
 },
 "nbformat": 4,
 "nbformat_minor": 5
}

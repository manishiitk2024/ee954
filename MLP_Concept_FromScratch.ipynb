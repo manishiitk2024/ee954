{
 "cells": [
  {
   "cell_type": "markdown",
   "id": "b10128aa",
   "metadata": {},
   "source": [
    "#### Concept is to implment the dot product"
   ]
  },
  {
   "cell_type": "code",
   "execution_count": 72,
   "id": "0edb93f3",
   "metadata": {},
   "outputs": [],
   "source": [
    "import numpy as np,random"
   ]
  },
  {
   "cell_type": "code",
   "execution_count": 73,
   "id": "c1067e16",
   "metadata": {},
   "outputs": [],
   "source": [
    "import matplotlib.pyplot as plt, seaborn as sns"
   ]
  },
  {
   "cell_type": "code",
   "execution_count": 131,
   "id": "628927df",
   "metadata": {},
   "outputs": [],
   "source": [
    "def relu(x):\n",
    "    return max(x,0)\n",
    "\n",
    "\n",
    "def softmax(x):\n",
    "    exp_scores = np.exp(x - np.max(x, axis=1, keepdims=True))\n",
    "    return exp_scores / np.sum(exp_scores, axis=1, keepdims=True)\n",
    "\n",
    "def log_loss(y_true, y_pred):\n",
    "    epsilon = 1e-15  # To prevent numerical instability (avoiding division by zero)\n",
    "    y_pred = np.clip(y_pred, epsilon, 1 - epsilon)  # Clip predicted probabilities to avoid log(0)\n",
    "    return -np.sum(y_true * np.log(y_pred))"
   ]
  },
  {
   "cell_type": "code",
   "execution_count": 133,
   "id": "e92d1dca",
   "metadata": {},
   "outputs": [
    {
     "name": "stdout",
     "output_type": "stream",
     "text": [
      "Log Loss: 2.9976021664879242e-15\n"
     ]
    }
   ],
   "source": [
    "logits = np.array([1.2,0.5,-0.3]).reshape(3,1)  # Logit values for 3 classes\n",
    "true_labels = np.array([0, 1, 0])  # One-hot encoded true labels (assuming class 1 is true)\n",
    "\n",
    "# Convert logits to probabilities using softmax\n",
    "probabilities = softmax(logits)\n",
    "\n",
    "# Compute log loss using true labels and predicted probabilities\n",
    "loss = log_loss(true_labels, probabilities)\n",
    "print(\"Log Loss:\", loss)"
   ]
  },
  {
   "cell_type": "code",
   "execution_count": 134,
   "id": "d0df018b",
   "metadata": {},
   "outputs": [
    {
     "data": {
      "text/plain": [
       "array([[ 1.2],\n",
       "       [ 0.5],\n",
       "       [-0.3]])"
      ]
     },
     "execution_count": 134,
     "metadata": {},
     "output_type": "execute_result"
    }
   ],
   "source": [
    "logits"
   ]
  },
  {
   "cell_type": "code",
   "execution_count": 136,
   "id": "1ffd5a61",
   "metadata": {},
   "outputs": [],
   "source": [
    "x2 = np.random.randn(100)"
   ]
  },
  {
   "cell_type": "code",
   "execution_count": 137,
   "id": "7e5970ce",
   "metadata": {},
   "outputs": [
    {
     "data": {
      "text/plain": [
       "3.2380974880962983"
      ]
     },
     "execution_count": 137,
     "metadata": {},
     "output_type": "execute_result"
    }
   ],
   "source": [
    "max(x2)"
   ]
  },
  {
   "cell_type": "code",
   "execution_count": 138,
   "id": "c0634c08",
   "metadata": {},
   "outputs": [
    {
     "data": {
      "text/plain": [
       "-2.7829316220198774"
      ]
     },
     "execution_count": 138,
     "metadata": {},
     "output_type": "execute_result"
    }
   ],
   "source": [
    "min(x2)"
   ]
  },
  {
   "cell_type": "code",
   "execution_count": 139,
   "id": "77948bf3",
   "metadata": {},
   "outputs": [
    {
     "data": {
      "text/plain": [
       "(array([ 2.,  5., 13., 23., 18., 16., 13.,  7.,  2.,  1.]),\n",
       " array([-2.78293162, -2.18082871, -1.5787258 , -0.97662289, -0.37451998,\n",
       "         0.22758293,  0.82968584,  1.43178876,  2.03389167,  2.63599458,\n",
       "         3.23809749]),\n",
       " <BarContainer object of 10 artists>)"
      ]
     },
     "execution_count": 139,
     "metadata": {},
     "output_type": "execute_result"
    },
    {
     "data": {
      "image/png": "[encoded data removed]",
      "text/plain": [
       "<Figure size 640x480 with 1 Axes>"
      ]
     },
     "metadata": {},
     "output_type": "display_data"
    }
   ],
   "source": [
    "plt.hist(x2)"
   ]
  },
  {
   "cell_type": "code",
   "execution_count": 75,
   "id": "3f3bb933",
   "metadata": {},
   "outputs": [],
   "source": [
    "#intNetworkDim = [4,2,2,1]"
   ]
  },
  {
   "cell_type": "code",
   "execution_count": 76,
   "id": "60213a4d",
   "metadata": {},
   "outputs": [
    {
     "data": {
      "text/plain": [
       "array([[ 1.95187963],\n",
       "       [-0.34485392],\n",
       "       [ 0.58348327],\n",
       "       [-0.44578079],\n",
       "       [-1.84724568]])"
      ]
     },
     "execution_count": 76,
     "metadata": {},
     "output_type": "execute_result"
    }
   ],
   "source": [
    "np.random.randn(5,1)"
   ]
  },
  {
   "cell_type": "markdown",
   "id": "1ac74f72",
   "metadata": {},
   "source": [
    "### FEED FORWARD"
   ]
  },
  {
   "cell_type": "code",
   "execution_count": 81,
   "id": "c500a5e0",
   "metadata": {},
   "outputs": [],
   "source": [
    "numberOfInputFeatures = 5\n",
    "X = np.random.randn(numberOfInputFeatures,1)"
   ]
  },
  {
   "cell_type": "code",
   "execution_count": 108,
   "id": "dfa86133",
   "metadata": {},
   "outputs": [],
   "source": [
    "layerTopology = (5,4,5,3) # 1stLayer - which is input shape - , hiddenLayers , Output Layer\n",
    "activation = 'relu'"
   ]
  },
  {
   "cell_type": "code",
   "execution_count": 118,
   "id": "fbd3d421",
   "metadata": {},
   "outputs": [],
   "source": [
    "def initializeWeights(layerTopology):\n",
    "    weights = {}\n",
    "    for layer in range(1,len(layerTopology)):\n",
    "        neurons = layerTopology[layer]\n",
    "        numberOfPreviousLayerFeaturelayerTopology = layerTopology[layer-1]\n",
    "        weight = np.random.randn(numberOfPreviousLayerFeaturelayerTopology,neurons)\n",
    "        bias = np.random.randn(neurons,1)\n",
    "        weights[layer]={'w':weight,'b':bias}\n",
    "    return weights"
   ]
  },
  {
   "cell_type": "code",
   "execution_count": 119,
   "id": "614f86f4",
   "metadata": {},
   "outputs": [],
   "source": [
    "weights = initializeWeights(layerTopology)"
   ]
  },
  {
   "cell_type": "code",
   "execution_count": null,
   "id": "ef4d2bda",
   "metadata": {},
   "outputs": [],
   "source": [
    "def forwardpass(inputVector,weights):\n",
    "    \n",
    "    *hiddenLayers,outputLayer = list(weights.keys())\n",
    "    \n",
    "    for k in hiddenLayers:\n",
    "        output = np.dot(weights[k]['w'].T,inputVector)+weights[k]['b']\n",
    "        output = relu(output)\n",
    "        inputVector = output\n",
    "        \n",
    "    finalLogitOutPut = softmax(inputVector)"
   ]
  },
  {
   "cell_type": "code",
   "execution_count": 126,
   "id": "0876af9e",
   "metadata": {},
   "outputs": [],
   "source": [
    "*arg,b = list(weights.keys())"
   ]
  },
  {
   "cell_type": "code",
   "execution_count": 127,
   "id": "c5004d87",
   "metadata": {},
   "outputs": [
    {
     "data": {
      "text/plain": [
       "[1, 2]"
      ]
     },
     "execution_count": 127,
     "metadata": {},
     "output_type": "execute_result"
    }
   ],
   "source": [
    "arg"
   ]
  },
  {
   "cell_type": "code",
   "execution_count": 128,
   "id": "1521098e",
   "metadata": {},
   "outputs": [
    {
     "data": {
      "text/plain": [
       "3"
      ]
     },
     "execution_count": 128,
     "metadata": {},
     "output_type": "execute_result"
    }
   ],
   "source": [
    "b"
   ]
  },
  {
   "cell_type": "code",
   "execution_count": null,
   "id": "b7fc3cc5",
   "metadata": {},
   "outputs": [],
   "source": []
  },
  {
   "cell_type": "code",
   "execution_count": null,
   "id": "894849b2",
   "metadata": {},
   "outputs": [],
   "source": []
  },
  {
   "cell_type": "code",
   "execution_count": null,
   "id": "03e5c743",
   "metadata": {},
   "outputs": [],
   "source": []
  },
  {
   "cell_type": "code",
   "execution_count": null,
   "id": "46c34f60",
   "metadata": {},
   "outputs": [],
   "source": []
  },
  {
   "cell_type": "code",
   "execution_count": null,
   "id": "97f01819",
   "metadata": {},
   "outputs": [],
   "source": []
  },
  {
   "cell_type": "code",
   "execution_count": null,
   "id": "b43ce2b2",
   "metadata": {},
   "outputs": [],
   "source": []
  },
  {
   "cell_type": "code",
   "execution_count": null,
   "id": "660f9560",
   "metadata": {},
   "outputs": [],
   "source": []
  },
  {
   "cell_type": "code",
   "execution_count": null,
   "id": "f519e92b",
   "metadata": {},
   "outputs": [],
   "source": []
  },
  {
   "cell_type": "code",
   "execution_count": 77,
   "id": "87a394e7",
   "metadata": {},
   "outputs": [],
   "source": []
  },
  {
   "cell_type": "code",
   "execution_count": 78,
   "id": "c95123ef",
   "metadata": {},
   "outputs": [
    {
     "data": {
      "text/plain": [
       "(5, 1)"
      ]
     },
     "execution_count": 78,
     "metadata": {},
     "output_type": "execute_result"
    }
   ],
   "source": [
    "X.shape"
   ]
  },
  {
   "cell_type": "code",
   "execution_count": null,
   "id": "ab9df000",
   "metadata": {},
   "outputs": [],
   "source": []
  },
  {
   "cell_type": "code",
   "execution_count": 79,
   "id": "64a69914",
   "metadata": {},
   "outputs": [],
   "source": [
    "w0 = np.random.randn(*X.shape)\n",
    "b0 = 0"
   ]
  },
  {
   "cell_type": "code",
   "execution_count": null,
   "id": "636818fb",
   "metadata": {},
   "outputs": [],
   "source": [
    "\n"
   ]
  },
  {
   "cell_type": "code",
   "execution_count": null,
   "id": "0f8cdc32",
   "metadata": {},
   "outputs": [],
   "source": []
  },
  {
   "cell_type": "code",
   "execution_count": null,
   "id": "60188720",
   "metadata": {},
   "outputs": [],
   "source": []
  },
  {
   "cell_type": "markdown",
   "id": "b26e869d",
   "metadata": {},
   "source": [
    "#### Input to 1st Layer - 1 Neuron"
   ]
  },
  {
   "cell_type": "code",
   "execution_count": 80,
   "id": "cfa69f41",
   "metadata": {},
   "outputs": [],
   "source": [
    "z1 = np.dot(w0.T,X0)+b\n",
    "a1 = relu(z1)\n",
    "b1 = 0"
   ]
  },
  {
   "cell_type": "code",
   "execution_count": null,
   "id": "be88f8db",
   "metadata": {},
   "outputs": [],
   "source": []
  },
  {
   "cell_type": "code",
   "execution_count": null,
   "id": "54542c69",
   "metadata": {},
   "outputs": [],
   "source": []
  },
  {
   "cell_type": "code",
   "execution_count": null,
   "id": "b503cad3",
   "metadata": {},
   "outputs": [],
   "source": []
  },
  {
   "cell_type": "markdown",
   "id": "f3b8e5b1",
   "metadata": {},
   "source": [
    "#### Input to 2nd Layer - 1 Neuron"
   ]
  },
  {
   "cell_type": "code",
   "execution_count": null,
   "id": "48109abc",
   "metadata": {},
   "outputs": [],
   "source": []
  },
  {
   "cell_type": "code",
   "execution_count": null,
   "id": "aae2b443",
   "metadata": {},
   "outputs": [],
   "source": []
  },
  {
   "cell_type": "code",
   "execution_count": null,
   "id": "82dbc7d5",
   "metadata": {},
   "outputs": [],
   "source": []
  },
  {
   "cell_type": "code",
   "execution_count": null,
   "id": "bdb5b17c",
   "metadata": {},
   "outputs": [],
   "source": []
  },
  {
   "cell_type": "code",
   "execution_count": null,
   "id": "ff43c8d3",
   "metadata": {},
   "outputs": [],
   "source": []
  },
  {
   "cell_type": "code",
   "execution_count": null,
   "id": "0121cc68",
   "metadata": {},
   "outputs": [],
   "source": []
  },
  {
   "cell_type": "code",
   "execution_count": null,
   "id": "9dbd9318",
   "metadata": {},
   "outputs": [],
   "source": []
  },
  {
   "cell_type": "code",
   "execution_count": 39,
   "id": "4a85fa0e",
   "metadata": {},
   "outputs": [
    {
     "data": {
      "text/plain": [
       "(5, 1)"
      ]
     },
     "execution_count": 39,
     "metadata": {},
     "output_type": "execute_result"
    }
   ],
   "source": [
    "X.shape"
   ]
  },
  {
   "cell_type": "code",
   "execution_count": 44,
   "id": "ebc8657c",
   "metadata": {},
   "outputs": [],
   "source": [
    "w = \n",
    "b = 0"
   ]
  },
  {
   "cell_type": "code",
   "execution_count": 45,
   "id": "7eed1081",
   "metadata": {},
   "outputs": [],
   "source": [
    "z = np.dot(w.T,X)+b"
   ]
  },
  {
   "cell_type": "code",
   "execution_count": 46,
   "id": "2c2207b6",
   "metadata": {},
   "outputs": [
    {
     "data": {
      "text/plain": [
       "array([[2.9886872]])"
      ]
     },
     "execution_count": 46,
     "metadata": {},
     "output_type": "execute_result"
    }
   ],
   "source": [
    "z"
   ]
  },
  {
   "cell_type": "markdown",
   "id": "10514755",
   "metadata": {},
   "source": [
    "##### Normalize"
   ]
  },
  {
   "cell_type": "code",
   "execution_count": 8,
   "id": "57a7911c",
   "metadata": {},
   "outputs": [],
   "source": [
    "def normalize(X):\n",
    "    mx = max(X)\n",
    "    mn = min(X)\n",
    "    rng = mx - mn\n",
    "    X = (X - mn)/rng\n",
    "    return X"
   ]
  },
  {
   "cell_type": "code",
   "execution_count": 11,
   "id": "2e846f8b",
   "metadata": {},
   "outputs": [
    {
     "data": {
      "text/plain": [
       "array([0.        , 1.        , 0.66666667, 0.33333333, 0.        ])"
      ]
     },
     "execution_count": 11,
     "metadata": {},
     "output_type": "execute_result"
    }
   ],
   "source": [
    "X = normalize(X)\n",
    "X"
   ]
  },
  {
   "cell_type": "code",
   "execution_count": null,
   "id": "41c493c2",
   "metadata": {},
   "outputs": [],
   "source": []
  },
  {
   "cell_type": "code",
   "execution_count": 33,
   "id": "2e7317d9",
   "metadata": {},
   "outputs": [],
   "source": [
    "#sns.histplot(np.random.randn(100));"
   ]
  },
  {
   "cell_type": "code",
   "execution_count": null,
   "id": "d52c1e8a",
   "metadata": {},
   "outputs": [],
   "source": []
  },
  {
   "cell_type": "code",
   "execution_count": null,
   "id": "8c27a8b5",
   "metadata": {},
   "outputs": [],
   "source": []
  },
  {
   "cell_type": "code",
   "execution_count": null,
   "id": "794aa16e",
   "metadata": {},
   "outputs": [],
   "source": []
  },
  {
   "cell_type": "code",
   "execution_count": null,
   "id": "3782f982",
   "metadata": {},
   "outputs": [],
   "source": []
  },
  {
   "cell_type": "code",
   "execution_count": null,
   "id": "d0c7497e",
   "metadata": {},
   "outputs": [],
   "source": []
  },
  {
   "cell_type": "code",
   "execution_count": null,
   "id": "4ca6873e",
   "metadata": {},
   "outputs": [],
   "source": []
  },
  {
   "cell_type": "code",
   "execution_count": null,
   "id": "2bc95d65",
   "metadata": {},
   "outputs": [],
   "source": []
  },
  {
   "cell_type": "code",
   "execution_count": null,
   "id": "fca7a7d2",
   "metadata": {},
   "outputs": [],
   "source": []
  },
  {
   "cell_type": "code",
   "execution_count": null,
   "id": "66353748",
   "metadata": {},
   "outputs": [],
   "source": []
  },
  {
   "cell_type": "code",
   "execution_count": null,
   "id": "ef9e805e",
   "metadata": {},
   "outputs": [],
   "source": []
  },
  {
   "cell_type": "code",
   "execution_count": null,
   "id": "7af8631f",
   "metadata": {},
   "outputs": [],
   "source": []
  },
  {
   "cell_type": "code",
   "execution_count": null,
   "id": "6fb89286",
   "metadata": {},
   "outputs": [],
   "source": []
  },
  {
   "cell_type": "code",
   "execution_count": null,
   "id": "a37159ae",
   "metadata": {},
   "outputs": [],
   "source": []
  },
  {
   "cell_type": "code",
   "execution_count": null,
   "id": "50f877ae",
   "metadata": {},
   "outputs": [],
   "source": []
  },
  {
   "cell_type": "code",
   "execution_count": null,
   "id": "1a4d4c4f",
   "metadata": {},
   "outputs": [],
   "source": []
  },
  {
   "cell_type": "code",
   "execution_count": null,
   "id": "b4d9cc73",
   "metadata": {},
   "outputs": [],
   "source": []
  },
  {
   "cell_type": "code",
   "execution_count": null,
   "id": "053988d7",
   "metadata": {},
   "outputs": [],
   "source": []
  },
  {
   "cell_type": "code",
   "execution_count": null,
   "id": "b7ae40b2",
   "metadata": {},
   "outputs": [],
   "source": []
  },
  {
   "cell_type": "code",
   "execution_count": null,
   "id": "d0b0a113",
   "metadata": {},
   "outputs": [],
   "source": []
  },
  {
   "cell_type": "code",
   "execution_count": null,
   "id": "8a1b5c0f",
   "metadata": {},
   "outputs": [],
   "source": []
  },
  {
   "cell_type": "code",
   "execution_count": 16,
   "id": "7e75cab9",
   "metadata": {},
   "outputs": [],
   "source": [
    "def initialize_parameters(dimensions):\n",
    "# dimensions is a list containing the number of neuron in each layer in the network\n",
    "# It returns parameters which is a python dictionary containing the parameters \"W1\", \"b1\", ..., \"WL\", \"bL\":\n",
    " \n",
    "    np.random.seed(2)\n",
    "    parameters = {}\n",
    "    L = len(dimensions)            # number of layers in the network + 1\n",
    " \n",
    "    for l in range(1, L): \n",
    "        parameters['W'+str(l)]=np.random.randn(dimensions[l],dimensions[l-1])*0.1\n",
    "        parameters['b' + str(l)]=np.zeros((dimensions[l], 1)) \n",
    "        \n",
    "        assert(parameters['W' + str(l)].shape==(dimensions[l],dimensions[l-1]))\n",
    "        assert(parameters['b' + str(l)].shape == (dimensions[l], 1))\n",
    "        \n",
    "    return parameters"
   ]
  },
  {
   "cell_type": "code",
   "execution_count": 18,
   "id": "8920496c",
   "metadata": {},
   "outputs": [
    {
     "data": {
      "text/plain": [
       "{'W1': array([[-0.04167578, -0.00562668, -0.21361961, ..., -0.06168445,\n",
       "          0.03213358, -0.09464469],\n",
       "        [-0.05301394, -0.1259207 ,  0.16775441, ..., -0.03284246,\n",
       "         -0.05623108,  0.01179136],\n",
       "        [ 0.07386378, -0.15872956,  0.01532001, ..., -0.08428557,\n",
       "          0.10040469,  0.00545832]]),\n",
       " 'b1': array([[0.],\n",
       "        [0.],\n",
       "        [0.]]),\n",
       " 'W2': array([[ 0.06650944, -0.19626047,  0.2112715 ],\n",
       "        [-0.28074571, -0.13967752,  0.02641189],\n",
       "        [ 0.10925169,  0.06646016,  0.08565535],\n",
       "        [-0.11058228,  0.03715795,  0.13440124],\n",
       "        [-0.16421272, -0.1153127 ,  0.02013163],\n",
       "        [ 0.13985659,  0.07228733, -0.10717236],\n",
       "        [-0.05673344, -0.03663499, -0.15460347]]),\n",
       " 'b2': array([[0.],\n",
       "        [0.],\n",
       "        [0.],\n",
       "        [0.],\n",
       "        [0.],\n",
       "        [0.],\n",
       "        [0.]]),\n",
       " 'W3': array([[ 0.20406947, -0.04960206, -0.06131668, -0.17449682,  0.01840741,\n",
       "         -0.00795452,  0.12406296],\n",
       "        [ 0.08625738, -0.01239074,  0.05854764,  0.19336815, -0.07322525,\n",
       "         -0.039205  ,  0.07512152],\n",
       "        [-0.05947453,  0.04753173, -0.1083593 ,  0.08228398,  0.07047718,\n",
       "         -0.05854343, -0.12699409],\n",
       "        [ 0.03255273,  0.00457369, -0.13662463,  0.10202692, -0.07310626,\n",
       "          0.1496712 ,  0.13433165],\n",
       "        [ 0.02566371,  0.0734615 , -0.14332651,  0.00178312,  0.05686418,\n",
       "         -0.1263975 , -0.14590294],\n",
       "        [ 0.15906599,  0.04026281,  0.14249133,  0.10019812, -0.28192685,\n",
       "         -0.11228612, -0.01523209],\n",
       "        [ 0.00556535,  0.01378749, -0.0675063 , -0.00885622, -0.10151087,\n",
       "          0.12861383, -0.09708002],\n",
       "        [-0.0577768 ,  0.08917285, -0.05625892,  0.01765442, -0.09055266,\n",
       "         -0.00368937,  0.04094553],\n",
       "        [-0.15298018, -0.16785625, -0.116733  ,  0.08260156,  0.05470732,\n",
       "          0.08330186,  0.14913897],\n",
       "        [-0.04016882, -0.07274709, -0.01175106,  0.0241847 ,  0.10988869,\n",
       "          0.01330499,  0.05696497]]),\n",
       " 'b3': array([[0.],\n",
       "        [0.],\n",
       "        [0.],\n",
       "        [0.],\n",
       "        [0.],\n",
       "        [0.],\n",
       "        [0.],\n",
       "        [0.],\n",
       "        [0.],\n",
       "        [0.]])}"
      ]
     },
     "execution_count": 18,
     "metadata": {},
     "output_type": "execute_result"
    }
   ],
   "source": [
    "initialize_parameters([784, 3, 7, 10])"
   ]
  },
  {
   "cell_type": "code",
   "execution_count": null,
   "id": "401b5be5",
   "metadata": {},
   "outputs": [],
   "source": []
  }
 ],
 "metadata": {
  "kernelspec": {
   "display_name": "Python 3 (ipykernel)",
   "language": "python",
   "name": "python3"
  },
  "language_info": {
   "codemirror_mode": {
    "name": "ipython",
    "version": 3
   },
   "file_extension": ".py",
   "mimetype": "text/x-python",
   "name": "python",
   "nbconvert_exporter": "python",
   "pygments_lexer": "ipython3",
   "version": "3.11.4"
  }
 },
 "nbformat": 4,
 "nbformat_minor": 5
}
